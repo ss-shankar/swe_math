{
 "cells": [
  {
   "cell_type": "markdown",
   "metadata": {},
   "source": [
    "# The Ancient Library's Secret Code\n",
    "\n",
    "\\#LinearAlgebra \\#VectorSpaceAndLinearIndependence\n",
    "\n",
    "Link: https://arpitbhayani.me/math/1\n",
    "\n",
    "## Question\n",
    "\n",
    "In the mysterious Grand Library of Alexandria (which secretly still exists!), historians discovered an ancient library containing some sacred knowledge in the form of books. The books were so holy that each one was kept in a vault and each unique vault was locked by a unique pattern, an n-dimensional vector. \n",
    "\n",
    "Young apprentice librarian Maya found a set of keys lying on the floor along with a scroll. The scroll contained a spell that could work on a set of keys and generate all possible keys to open all possible vaults of the library. The spell combines the keys in a linear way.\n",
    "\n",
    "Help Maya find find if the set of keys she found is sufficient enough and also fewest possible to generate all possible keys and unlock all the vaults of the library. Help Maya write a program that checks this.\n",
    "\n",
    "Note: Since the ancient mechanism works with real numbers, your solution should handle floating-point arithmetic carefully.\n",
    "\n",
    "```Python\n",
    "from typing import List\n",
    "\n",
    "def can_unlock_library(keys: List[List[float]], tolerance: float = 1e-10) -> bool:\n",
    "    \"\"\"\n",
    "    Args:\n",
    "        keys: List of n vectors, each being a list of n floating-point numbers\n",
    "        tolerance: Threshold for numerical calculations (default: 1e-10)\n",
    "\n",
    "    Returns:\n",
    "        bool: True if keys can unlock the library, False otherwise\n",
    "    \"\"\"\n",
    "    pass\n",
    "```\n",
    "\n",
    "### Example_1: \n",
    "\n",
    "```Python\n",
    "keys = [\n",
    "    [1.0, 0.0, 0.0],\n",
    "    [0.0, 1.0, 0.0],\n",
    "    [0.0, 0.0, 1.0]\n",
    "]\n",
    "\n",
    "result = can_unlock_library(keys)   # Returns True\n",
    "```\n",
    "#### Explanation: \n",
    "The set of provided keys are fewest possible keys that can generate all possible keys in 3-dimensional space when combined linearly and hence can unlock all the vaults of the libraey.\n",
    "\n",
    "### Example_2:\n",
    "\n",
    "```Python\n",
    "keys = [\n",
    "    [2, 0, 0],\n",
    "    [0, 2, 0],\n",
    "    [4, 4, 0]\n",
    "]\n",
    "result = can_unlock_library(keys)  # Returns False\n",
    "```\n",
    "#### Explanation:\n",
    "The set of provided keys cannot represent the key [0, 0, 1]. Hence the keys will not unlock all possible vaults of the libarary."
   ]
  },
  {
   "cell_type": "code",
   "execution_count": 3,
   "metadata": {},
   "outputs": [],
   "source": [
    "import numpy as np\n",
    "from typing import List"
   ]
  },
  {
   "cell_type": "code",
   "execution_count": 10,
   "metadata": {},
   "outputs": [],
   "source": [
    "def can_unlock_library(keys: List[List[float]], tolerance: float = 1e-10) -> bool:\n",
    "    \"\"\"\n",
    "    Args:\n",
    "        keys: List of n vectors, each being a list of n floating-point numbers\n",
    "        tolerance: Threshold for numerical calculations (default: 1e-10)\n",
    "\n",
    "    Returns:\n",
    "        bool: True if keys can unlock the library, False otherwise\n",
    "    \"\"\"\n",
    "    # Check if keys is empty\n",
    "    n = len(keys)\n",
    "    if n == 0:\n",
    "        return False\n",
    "\n",
    "    # Convert keys to numpy array\n",
    "    keys_np_array = np.array(keys, dtype=float)\n",
    "\n",
    "    # Compute the rank of the matrix\n",
    "    rank = np.linalg.matrix_rank(keys_np_array, tol=tolerance)\n",
    "\n",
    "    # Check if keys are linearly independent\n",
    "    if rank == n:\n",
    "        return True\n",
    "    else:\n",
    "        return False"
   ]
  },
  {
   "cell_type": "code",
   "execution_count": 11,
   "metadata": {},
   "outputs": [
    {
     "data": {
      "text/plain": [
       "True"
      ]
     },
     "execution_count": 11,
     "metadata": {},
     "output_type": "execute_result"
    }
   ],
   "source": [
    "keys = [\n",
    "    [1.0, 0.0, 0.0],\n",
    "    [0.0, 1.0, 0.0],\n",
    "    [0.0, 0.0, 1.0]\n",
    "]\n",
    "\n",
    "can_unlock_library(keys)   # Returns True"
   ]
  },
  {
   "cell_type": "code",
   "execution_count": 12,
   "metadata": {},
   "outputs": [
    {
     "data": {
      "text/plain": [
       "False"
      ]
     },
     "execution_count": 12,
     "metadata": {},
     "output_type": "execute_result"
    }
   ],
   "source": [
    "keys = [\n",
    "    [2, 0, 0],\n",
    "    [0, 2, 0],\n",
    "    [4, 4, 0]\n",
    "]\n",
    "can_unlock_library(keys)  # Returns False"
   ]
  },
  {
   "cell_type": "markdown",
   "metadata": {},
   "source": [
    "## Solution Explanation\n",
    "\n",
    "To determine if the set of keys is sufficient to generate all possible keys we must determine if the keys form a basis of the n-dimensional vector space. \n",
    "\n",
    "A basis consists of a set of linearly independent vectors that spans the entire vector space. \n",
    "\n",
    "### Solution Approach\n",
    "1. Compute the rank of the martix formed by keys\n",
    "2. If the rank equals n, the vectors are linearly independent and span the n-dimensional space, meaning they form a basis."
   ]
  }
 ],
 "metadata": {
  "kernelspec": {
   "display_name": ".venv",
   "language": "python",
   "name": "python3"
  },
  "language_info": {
   "codemirror_mode": {
    "name": "ipython",
    "version": 3
   },
   "file_extension": ".py",
   "mimetype": "text/x-python",
   "name": "python",
   "nbconvert_exporter": "python",
   "pygments_lexer": "ipython3",
   "version": "3.9.6"
  }
 },
 "nbformat": 4,
 "nbformat_minor": 2
}
